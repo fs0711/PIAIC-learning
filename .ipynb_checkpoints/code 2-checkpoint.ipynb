{
 "cells": [
  {
   "cell_type": "markdown",
   "metadata": {},
   "source": [
    "# Mathematical operators"
   ]
  },
  {
   "cell_type": "code",
   "execution_count": 1,
   "metadata": {},
   "outputs": [
    {
     "data": {
      "text/plain": [
       "5.0"
      ]
     },
     "execution_count": 1,
     "metadata": {},
     "output_type": "execute_result"
    }
   ],
   "source": [
    "45/9 #by default its float"
   ]
  },
  {
   "cell_type": "code",
   "execution_count": 2,
   "metadata": {},
   "outputs": [
    {
     "data": {
      "text/plain": [
       "5"
      ]
     },
     "execution_count": 2,
     "metadata": {},
     "output_type": "execute_result"
    }
   ],
   "source": [
    "45//9 #for int result use double // no rounding off only return int part"
   ]
  },
  {
   "cell_type": "code",
   "execution_count": 3,
   "metadata": {},
   "outputs": [
    {
     "data": {
      "text/plain": [
       "4"
      ]
     },
     "execution_count": 3,
     "metadata": {},
     "output_type": "execute_result"
    }
   ],
   "source": [
    "2^6"
   ]
  },
  {
   "cell_type": "code",
   "execution_count": 4,
   "metadata": {},
   "outputs": [
    {
     "data": {
      "text/plain": [
       "8"
      ]
     },
     "execution_count": 4,
     "metadata": {},
     "output_type": "execute_result"
    }
   ],
   "source": [
    "2**3 #for power use **"
   ]
  },
  {
   "cell_type": "code",
   "execution_count": 5,
   "metadata": {},
   "outputs": [
    {
     "data": {
      "text/plain": [
       "23"
      ]
     },
     "execution_count": 5,
     "metadata": {},
     "output_type": "execute_result"
    }
   ],
   "source": [
    "2*(1+1)**3+7"
   ]
  },
  {
   "cell_type": "code",
   "execution_count": 6,
   "metadata": {},
   "outputs": [
    {
     "data": {
      "text/plain": [
       "4.0"
      ]
     },
     "execution_count": 6,
     "metadata": {},
     "output_type": "execute_result"
    }
   ],
   "source": [
    "2+3/2+0.5"
   ]
  },
  {
   "cell_type": "code",
   "execution_count": 7,
   "metadata": {},
   "outputs": [
    {
     "data": {
      "text/plain": [
       "3.5"
      ]
     },
     "execution_count": 7,
     "metadata": {},
     "output_type": "execute_result"
    }
   ],
   "source": [
    "2+3//2+0.5"
   ]
  },
  {
   "cell_type": "markdown",
   "metadata": {},
   "source": [
    "\n",
    "# Unfamiliar operators"
   ]
  },
  {
   "cell_type": "code",
   "execution_count": 8,
   "metadata": {},
   "outputs": [
    {
     "data": {
      "text/plain": [
       "1"
      ]
     },
     "execution_count": 8,
     "metadata": {},
     "output_type": "execute_result"
    }
   ],
   "source": [
    "4%3 #return remainder of operation"
   ]
  },
  {
   "cell_type": "markdown",
   "metadata": {},
   "source": [
    "# if statements"
   ]
  },
  {
   "cell_type": "code",
   "execution_count": 9,
   "metadata": {},
   "outputs": [],
   "source": [
    "a = 2\n",
    "b = 3"
   ]
  },
  {
   "cell_type": "code",
   "execution_count": 14,
   "metadata": {},
   "outputs": [
    {
     "name": "stdout",
     "output_type": "stream",
     "text": [
      "Enter A1\n",
      "Enter B4\n",
      "1 is less than 4\n"
     ]
    }
   ],
   "source": [
    "a = int(input(\"Enter A\"))\n",
    "b = int(input(\"Enter B\"))\n",
    "if a>b:\n",
    "    #same indentation required for function body\n",
    "    print(f\"{a} is greater than {b}\")\n",
    "    print(f\"{a} is greater than {b}\")\n",
    "    print(f\"{a} is greater than {b}\")\n",
    "    print(f\"{a} is greater than {b}\")\n",
    "else:\n",
    "    print(f\"{a} is less than {b}\")\n",
    "    "
   ]
  },
  {
   "cell_type": "code",
   "execution_count": 15,
   "metadata": {},
   "outputs": [
    {
     "name": "stdout",
     "output_type": "stream",
     "text": [
      "Enter A4\n",
      "Enter B3\n",
      "4 is greater than 3\n",
      "4 is greater than 3\n",
      "4 is greater than 3\n",
      "4 is greater than 3\n"
     ]
    }
   ],
   "source": [
    "a = input(\"Enter A\") #it works on strings as long as string contais only numbers\n",
    "b = input(\"Enter B\")\n",
    "if a>b:\n",
    "    #same indentation required for function body\n",
    "    print(f\"{a} is greater than {b}\")\n",
    "    print(f\"{a} is greater than {b}\")\n",
    "    print(f\"{a} is greater than {b}\")\n",
    "    print(f\"{a} is greater than {b}\")\n",
    "else:\n",
    "    print(f\"{a} is less than {b}\")"
   ]
  },
  {
   "cell_type": "code",
   "execution_count": 18,
   "metadata": {},
   "outputs": [
    {
     "name": "stdout",
     "output_type": "stream",
     "text": [
      "Enter Ab\n",
      "Enter B\n",
      "b is greater than \n",
      "b is greater than \n",
      "b is greater than \n",
      "b is greater than \n"
     ]
    }
   ],
   "source": [
    "a = input(\"Enter A\")\n",
    "b = input(\"Enter B\")\n",
    "if a>b:\n",
    "    #same indentation required for function body\n",
    "    print(f\"{a} is greater than {b}\")\n",
    "    print(f\"{a} is greater than {b}\")\n",
    "    print(f\"{a} is greater than {b}\")\n",
    "    print(f\"{a} is greater than {b}\")\n",
    "else:\n",
    "    print(f\"{a} is less than {b}\")\n",
    "    "
   ]
  },
  {
   "cell_type": "code",
   "execution_count": 21,
   "metadata": {},
   "outputs": [
    {
     "name": "stdout",
     "output_type": "stream",
     "text": [
      "Do you have valid NIC?yes\n",
      "Your NIC is valid\n",
      "Is your name in voter list?no\n",
      "You are not allowed\n"
     ]
    }
   ],
   "source": [
    "nic = input(\"Do you have valid NIC?\").lower()\n",
    "if nic == 'yes':\n",
    "    print(\"Your NIC is valid\")\n",
    "    inlist = input(\"Is your name in voter list?\").lower()\n",
    "    if inlist == \"yes\":\n",
    "        print(\"You are allowed\")\n",
    "    else:\n",
    "        print(\"You are not allowed\")\n",
    "else:\n",
    "    print(\"please get valid NIC\")"
   ]
  },
  {
   "cell_type": "code",
   "execution_count": 28,
   "metadata": {},
   "outputs": [
    {
     "name": "stdout",
     "output_type": "stream",
     "text": [
      "Do you have valid NIC?yes\n",
      "Is your name in voter list?yes\n",
      "You are allowed\n"
     ]
    }
   ],
   "source": [
    "nic = input(\"Do you have valid NIC?\").lower()\n",
    "inlist = input(\"Is your name in voter list?\").lower()\n",
    "\n",
    "if nic == 'yes' and inlist == 'yes':\n",
    "    print(\"You are allowed\")\n",
    "else:\n",
    "    print(\"You are not allowed\")\n"
   ]
  },
  {
   "cell_type": "code",
   "execution_count": null,
   "metadata": {},
   "outputs": [],
   "source": []
  }
 ],
 "metadata": {
  "kernelspec": {
   "display_name": "Python 3",
   "language": "python",
   "name": "python3"
  },
  "language_info": {
   "codemirror_mode": {
    "name": "ipython",
    "version": 3
   },
   "file_extension": ".py",
   "mimetype": "text/x-python",
   "name": "python",
   "nbconvert_exporter": "python",
   "pygments_lexer": "ipython3",
   "version": "3.7.3"
  }
 },
 "nbformat": 4,
 "nbformat_minor": 2
}
